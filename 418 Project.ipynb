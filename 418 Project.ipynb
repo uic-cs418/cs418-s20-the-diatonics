{
 "cells": [
  {
   "cell_type": "code",
   "execution_count": 28,
   "metadata": {},
   "outputs": [
    {
     "name": "stdout",
     "output_type": "stream",
     "text": [
      "'The Box' by Roddy Ricch\n"
     ]
    }
   ],
   "source": [
    "import billboard\n",
    "\n",
    "chart = billboard.ChartData('hot-100')\n",
    "chart.title\n",
    "song = chart[0]\n",
    "print (song)\n",
    "#billboard.charts()"
   ]
  },
  {
   "cell_type": "code",
   "execution_count": 37,
   "metadata": {},
   "outputs": [],
   "source": [
    "import spotipy\n",
    "from spotipy.oauth2 import SpotifyClientCredentials\n",
    "\n",
    "def read_api_key(filepath):\n",
    "    with open(filepath, 'r') as f:\n",
    "        return f.read().replace('\\n','')\n",
    "\n",
    "myclient_id = read_api_key('ClientID.txt')\n",
    "myclient_secret = read_api_key('ClientSecret.txt')\n",
    "\n",
    "credentials = spotipy.oauth2.SpotifyClientCredentials(client_id=myclient_id, client_secret=myclient_secret)\n",
    "spotify = spotipy.Spotify(client_credentials_manager=credentials)"
   ]
  },
  {
   "cell_type": "code",
   "execution_count": 38,
   "metadata": {},
   "outputs": [
    {
     "data": {
      "text/plain": [
       "'https://open.spotify.com/track/0nbXyq5TXYPCO7pr3N8S4I'"
      ]
     },
     "execution_count": 38,
     "metadata": {},
     "output_type": "execute_result"
    }
   ],
   "source": [
    "json = spotify.search(q=\"The Box\", limit=10, offset=0, type='track', market=None)\n",
    "url = json['tracks']['items'][0]['external_urls']['spotify']\n",
    "url"
   ]
  },
  {
   "cell_type": "code",
   "execution_count": 39,
   "metadata": {},
   "outputs": [
    {
     "data": {
      "text/plain": [
       "[{'danceability': 0.896,\n",
       "  'energy': 0.586,\n",
       "  'key': 10,\n",
       "  'loudness': -6.687,\n",
       "  'mode': 0,\n",
       "  'speechiness': 0.0559,\n",
       "  'acousticness': 0.104,\n",
       "  'instrumentalness': 0,\n",
       "  'liveness': 0.79,\n",
       "  'valence': 0.642,\n",
       "  'tempo': 116.971,\n",
       "  'type': 'audio_features',\n",
       "  'id': '0nbXyq5TXYPCO7pr3N8S4I',\n",
       "  'uri': 'spotify:track:0nbXyq5TXYPCO7pr3N8S4I',\n",
       "  'track_href': 'https://api.spotify.com/v1/tracks/0nbXyq5TXYPCO7pr3N8S4I',\n",
       "  'analysis_url': 'https://api.spotify.com/v1/audio-analysis/0nbXyq5TXYPCO7pr3N8S4I',\n",
       "  'duration_ms': 196653,\n",
       "  'time_signature': 4}]"
      ]
     },
     "execution_count": 39,
     "metadata": {},
     "output_type": "execute_result"
    }
   ],
   "source": [
    "tracks = [url]\n",
    "spotify.audio_features(tracks)"
   ]
  },
  {
   "cell_type": "code",
   "execution_count": 43,
   "metadata": {},
   "outputs": [
    {
     "name": "stdout",
     "output_type": "stream",
     "text": [
      "hot-100 chart from 2019-01-05\n",
      "-----------------------------\n",
      "1. 'Thank U, Next' by Ariana Grande\n",
      "2. 'Without Me' by Halsey\n",
      "3. 'All I Want For Christmas Is You' by Mariah Carey\n",
      "4. 'Sicko Mode' by Travis Scott\n",
      "5. 'Sunflower (Spider-Man: Into The Spider-Verse)' by Post Malone & Swae Lee\n",
      "6. 'High Hopes' by Panic! At The Disco\n",
      "7. 'Happier' by Marshmello & Bastille\n",
      "8. 'Jingle Bell Rock' by Bobby Helms\n",
      "9. 'Rockin' Around The Christmas Tree' by Brenda Lee\n",
      "10. 'A Holly Jolly Christmas' by Burl Ives\n",
      "11. 'The Christmas Song (Merry Christmas To You)' by Nat King Cole\n",
      "12. 'Drip Too Hard' by Lil Baby & Gunna\n",
      "13. 'It's The Most Wonderful Time Of The Year' by Andy Williams\n",
      "14. 'Girls Like You' by Maroon 5 Featuring Cardi B\n",
      "15. 'ZEZE' by Kodak Black Featuring Travis Scott & Offset\n",
      "16. 'Rudolph The Red-Nosed Reindeer' by Gene Autry\n",
      "17. 'Mo Bamba' by Sheck Wes\n",
      "18. 'Wake Up In The Sky' by Gucci Mane X Bruno Mars X Kodak Black\n",
      "19. 'Money' by Cardi B\n",
      "20. 'Let It Snow, Let It Snow, Let It Snow' by Dean Martin\n",
      "21. 'Eastside' by benny blanco, Halsey & Khalid\n",
      "22. 'Breathin' by Ariana Grande\n",
      "23. 'Better Now' by Post Malone\n",
      "24. 'Youngblood' by 5 Seconds Of Summer\n",
      "25. 'Last Christmas' by Wham!\n",
      "26. 'Sleigh Ride' by The Ronettes\n",
      "27. 'Lucid Dreams' by Juice WRLD\n",
      "28. 'Here Comes Santa Claus (Right Down Santa Claus Lane)' by Gene Autry\n",
      "29. 'Feliz Navidad' by Jose Feliciano\n",
      "30. 'Taki Taki' by DJ Snake Featuring Selena Gomez, Ozuna & Cardi B\n",
      "31. 'MIA' by Bad Bunny Featuring Drake\n",
      "32. '(There's No Place Like) Home For The Holidays' by Perry Como\n",
      "33. 'Leave Me Alone' by Flipp Dinero\n",
      "34. 'White Christmas' by Bing Crosby\n",
      "35. 'It's Beginning To Look A Lot Like Christmas' by Perry Como And The Fontane Sisters With Mitchell Ayres And His Orchestra\n",
      "36. 'Going Bad' by Meek Mill Featuring Drake\n",
      "37. 'A Lot' by 21 Savage\n",
      "38. 'Trip' by Ella Mai\n",
      "39. 'I Like It' by Cardi B, Bad Bunny & J Balvin\n",
      "40. 'Blue Christmas' by Elvis Presley\n",
      "41. 'Speechless' by Dan + Shay\n",
      "42. 'Happy Xmas (War Is Over)' by John & Yoko/The Plastic Ono Band With The Harlem Community Choir\n",
      "43. 'Christmas (Baby Please Come Home)' by Darlene Love\n",
      "44. 'Underneath The Tree' by Kelly Clarkson\n",
      "45. 'Run Rudolph Run' by Chuck Berry\n",
      "46. 'Natural' by Imagine Dragons\n",
      "47. 'Wow.' by Post Malone\n",
      "48. 'Love Lies' by Khalid & Normani\n",
      "49. 'Jingle Bells' by Frank Sinatra\n",
      "50. 'Beautiful' by Bazzi Featuring Camila Cabello\n",
      "51. 'Better' by Khalid\n",
      "52. 'Shallow' by Lady Gaga & Bradley Cooper\n",
      "53. 'Cozy Little Christmas' by Katy Perry\n",
      "54. 'She Got The Best Of Me' by Luke Combs\n",
      "55. 'The Christmas Song' by Lauren Daigle\n",
      "56. 'Uproar' by Lil Wayne\n",
      "57. 'Swervin' by A Boogie Wit da Hoodie Featuring 6ix9ine\n",
      "58. 'Can't Leave Without It' by 21 Savage\n",
      "59. 'You Say' by Lauren Daigle\n",
      "60. 'Close To Me' by Ellie Goulding X Diplo Featuring Swae Lee\n",
      "61. 'Best Shot' by Jimmie Allen\n",
      "62. 'Dangerous' by Meek Mill Featuring Jeremih & PnB Rock\n",
      "63. 'Be Alright' by Dean Lewis\n",
      "64. 'Drunk Me' by Mitchell Tenpenny\n",
      "65. 'Startender' by A Boogie Wit da Hoodie Featuring Offset & Tyga\n",
      "66. 'Look Back At It' by A Boogie Wit da Hoodie\n",
      "67. 'All My Friends' by 21 Savage\n",
      "68. 'BAD!' by XXXTENTACION\n",
      "69. 'Backin' It Up' by Pardison Fontaine Featuring Cardi B\n",
      "70. 'Break Da Law' by 21 Savage\n",
      "71. 'Imagine' by Ariana Grande\n",
      "72. 'Talk To Me' by Tory Lanez & Rich The Kid\n",
      "73. 'Monster' by 21 Savage\n",
      "74. 'Calling My Spirit' by Kodak Black\n",
      "75. 'Consequences' by Camila Cabello\n",
      "76. 'Armed And Dangerous' by Juice WRLD\n",
      "77. 'Arms Around You' by XXXTENTACION x Lil Pump Featuring Maluma & Swae Lee\n",
      "78. 'Nothing Breaks Like A Heart' by Mark Ronson Featuring Miley Cyrus\n",
      "79. 'Sixteen' by Thomas Rhett\n",
      "80. 'Burning Man' by Dierks Bentley Featuring Brothers Osborne\n",
      "81. 'Beautiful Crazy' by Luke Combs\n",
      "82. 'When The Party's Over' by Billie Eilish\n",
      "83. 'Sweet But Psycho' by Ava Max\n",
      "84. 'This Feeling' by The Chainsmokers Featuring Kelsea Ballerini\n",
      "85. 'You' by Jacquees\n",
      "86. '1.5' by 21 Savage\n",
      "87. 'Girl Like You' by Jason Aldean\n",
      "88. 'Out For The Night' by 21 Savage\n",
      "89. 'Good Girl' by Dustin Lynch\n",
      "90. 'No Stylist' by French Montana Featuring Drake\n",
      "91. 'Lovely' by Billie Eilish & Khalid\n",
      "92. 'Ella Quiere Beber' by Anuel AA & Romeo Santos\n",
      "93. 'Gun Smoke' by 21 Savage\n",
      "94. 'Demons And Angels' by A Boogie Wit da Hoodie Featuring Juice WRLD\n",
      "95. 'ASMR' by 21 Savage\n",
      "96. 'Last Shot' by Kip Moore\n",
      "97. 'Fine China' by Future & Juice WRLD\n",
      "98. 'Envy Me' by Calboy\n",
      "99. 'Lost In Japan' by Shawn Mendes X Zedd\n",
      "100. 'This Is It' by Scotty McCreery\n"
     ]
    }
   ],
   "source": [
    "Jan19 = billboard.ChartData('hot-100', date='2019-01-01')\n",
    "print(Jan19)"
   ]
  }
 ],
 "metadata": {
  "kernelspec": {
   "display_name": "Python 3",
   "language": "python",
   "name": "python3"
  },
  "language_info": {
   "codemirror_mode": {
    "name": "ipython",
    "version": 3
   },
   "file_extension": ".py",
   "mimetype": "text/x-python",
   "name": "python",
   "nbconvert_exporter": "python",
   "pygments_lexer": "ipython3",
   "version": "3.7.6"
  }
 },
 "nbformat": 4,
 "nbformat_minor": 4
}
