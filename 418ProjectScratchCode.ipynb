{
 "cells": [
  {
   "cell_type": "code",
   "execution_count": null,
   "metadata": {},
   "outputs": [],
   "source": [
    "import billboard\n",
    "import spotipy\n",
    "import spotipy.oauth2 as oauth2\n",
    "import json\n",
    "import pandas as pd"
   ]
  },
  {
   "cell_type": "markdown",
   "metadata": {},
   "source": [
    "**Getting the credentials and testing the Spotipy API"
   ]
  },
  {
   "cell_type": "code",
   "execution_count": null,
   "metadata": {},
   "outputs": [],
   "source": [
    "def read_api_key(filepath):\n",
    "    with open(filepath, 'r') as f:\n",
    "        return f.read().replace('\\n','')   \n",
    "myclient_id = read_api_key('ClientID.txt')\n",
    "myclient_secret = read_api_key('ClientSecret.txt')\n",
    "credentials = spotipy.oauth2.SpotifyClientCredentials(client_id=myclient_id, client_secret=myclient_secret)\n"
   ]
  },
  {
   "cell_type": "code",
   "execution_count": null,
   "metadata": {},
   "outputs": [],
   "source": [
    "spotify = spotipy.Spotify(client_credentials_manager=credentials)"
   ]
  },
  {
   "cell_type": "code",
   "execution_count": null,
   "metadata": {},
   "outputs": [],
   "source": [
    "track = spotify.audio_features(['3LbZIhU0smEU5SUnxod4j4'])\n",
    "print(track)"
   ]
  },
  {
   "cell_type": "markdown",
   "metadata": {},
   "source": [
    "**Testing Billboard API"
   ]
  },
  {
   "cell_type": "code",
   "execution_count": null,
   "metadata": {},
   "outputs": [],
   "source": [
    "chart = billboard.ChartData('hot-100')\n",
    "chart.title\n",
    "chart = billboard.ChartData('hot-100', date='2019-01-01', fetch=True, timeout=25)\n",
    "print(chart[0])"
   ]
  },
  {
   "cell_type": "markdown",
   "metadata": {},
   "source": [
    "**Getting the title and artist and searching the database"
   ]
  },
  {
   "cell_type": "code",
   "execution_count": null,
   "metadata": {},
   "outputs": [],
   "source": [
    "title = chart[0].title\n",
    "artist = chart[0].artist\n",
    "results = spotify.search(q='track:' + title + ' artist:' + artist , type='track', market='US')\n",
    "print(results)"
   ]
  },
  {
   "cell_type": "markdown",
   "metadata": {},
   "source": [
    "**Looking in the returned result and getting the trackID to get track information"
   ]
  },
  {
   "cell_type": "code",
   "execution_count": null,
   "metadata": {},
   "outputs": [],
   "source": [
    "print(results['tracks']['items'][0]['uri'])\n",
    "trackID = results['tracks']['items'][0]['uri'].split(':')[2]\n",
    "track = spotify.audio_features([trackID])\n",
    "print(track)\n"
   ]
  }
 ],
 "metadata": {
  "kernelspec": {
   "display_name": "Python 3",
   "language": "python",
   "name": "python3"
  },
  "language_info": {
   "codemirror_mode": {
    "name": "ipython",
    "version": 3
   },
   "file_extension": ".py",
   "mimetype": "text/x-python",
   "name": "python",
   "nbconvert_exporter": "python",
   "pygments_lexer": "ipython3",
   "version": "3.7.4"
  }
 },
 "nbformat": 4,
 "nbformat_minor": 4
}
