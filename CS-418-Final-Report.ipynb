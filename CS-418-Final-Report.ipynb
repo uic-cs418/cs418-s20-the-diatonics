{
 "cells": [
  {
   "cell_type": "code",
   "execution_count": 1,
   "metadata": {},
   "outputs": [],
   "source": [
    "import sys\n",
    "sys.path.insert(1, './lib/')"
   ]
  },
  {
   "cell_type": "markdown",
   "metadata": {},
   "source": [
    "# Discovering Classic Rock Subgenres\n",
    "### Team Diatonics | CS 418 | Spring 2020\n",
    "\n",
    "### Team Members\n",
    "* Leopoldo Gomez (`lgomez36@uic.edu`, `pologomez`), Matthew Searcy (`msearc2@uic.edu`, `MatthewSearcy`),  Matt Rusnaczyk (`mrusna4@uic.edu`, `mrusnaczyk`), Faraz Shakir (`fshaki3@uic.edu`, `FShakir`), Mahdi Moghaddam (`mmogha2@uic.edu`, `mahdimo5595`)\n",
    "\n",
    "------"
   ]
  },
  {
   "cell_type": "markdown",
   "metadata": {},
   "source": [
    "## Project Introduction\n",
    "---\n",
    "The main idea of this project is to see if a clustering method can be used to subdivide a large pool of songs that are deemed to be part of the same genre into smaller subgenres. A potential audience for this analysis would be people who are trying to get into a new gerne. Being able to listen to a selection of songs from each subgroup could make it easier to figure out what type of bands they'd enjoy listening to. \n",
    "\n",
    "We use a precompiled [dataset](https://github.com/fivethirtyeight/data/blob/master/classic-rock/classic-rock-song-list.csv) of classic rock songs and get their audio features via spotify's API. We decided to use classic rock as our genre because it is one of the broadest genres of music with many distinct characteristic sounds and sub-cultures."
   ]
  },
  {
   "cell_type": "markdown",
   "metadata": {},
   "source": [
    "## Data Acquisition and Cleaning\n",
    "---"
   ]
  },
  {
   "cell_type": "markdown",
   "metadata": {},
   "source": [
    "Our analysis is based on two sets of data. The first is the [Classic Rock Song List from FiveThirtyEight](https://github.com/fivethirtyeight/data/blob/master/classic-rock/classic-rock-song-list.csv); the second is the audio features data made available by Spotify through their [RESTful API](https://developer.spotify.com/documentation/web-api/reference/tracks/get-audio-features/)."
   ]
  },
  {
   "cell_type": "markdown",
   "metadata": {},
   "source": [
    "First, we read in the data from the classic rock songs dataset, then we transform the data into a list consisting of each track and artist concatenated into one string. Converting into this format allows us to more easily search for the tracks in Spotify later on."
   ]
  },
  {
   "cell_type": "code",
   "execution_count": 2,
   "metadata": {},
   "outputs": [],
   "source": [
    "import data_acquisition_cleaning as data\n",
    "raw_song_data = data.load_song_data()\n",
    "title_artist = data.get_title_artist(raw_song_data)"
   ]
  },
  {
   "cell_type": "markdown",
   "metadata": {},
   "source": [
    "Next, we take the title/artist strings we generated earlier, and retrieve the corresponding Spotify resource URLs for each:"
   ]
  },
  {
   "cell_type": "code",
   "execution_count": 3,
   "metadata": {},
   "outputs": [],
   "source": [
    "%%capture\n",
    "import spotify\n",
    "spotify_client = spotify.get_spotify_client()\n",
    "tracks_to_query = spotify.get_spotify_resource_urls(title_artist, spotify_client)"
   ]
  },
  {
   "cell_type": "markdown",
   "metadata": {},
   "source": [
    "Then, we use the Spotify API to retrieve the audio features for each of the songs in the list, and add the track name and artist back in:"
   ]
  },
  {
   "cell_type": "code",
   "execution_count": 4,
   "metadata": {},
   "outputs": [],
   "source": [
    "%%capture\n",
    "tracks_with_audio_features = spotify.audio_features(tracks_to_query, spotify_client)"
   ]
  },
  {
   "cell_type": "markdown",
   "metadata": {},
   "source": [
    "And this is the resulting dataset:"
   ]
  },
  {
   "cell_type": "code",
   "execution_count": 5,
   "metadata": {},
   "outputs": [
    {
     "data": {
      "text/html": [
       "<div>\n",
       "<style scoped>\n",
       "    .dataframe tbody tr th:only-of-type {\n",
       "        vertical-align: middle;\n",
       "    }\n",
       "\n",
       "    .dataframe tbody tr th {\n",
       "        vertical-align: top;\n",
       "    }\n",
       "\n",
       "    .dataframe thead th {\n",
       "        text-align: right;\n",
       "    }\n",
       "</style>\n",
       "<table border=\"1\" class=\"dataframe\">\n",
       "  <thead>\n",
       "    <tr style=\"text-align: right;\">\n",
       "      <th></th>\n",
       "      <th>danceability</th>\n",
       "      <th>energy</th>\n",
       "      <th>key</th>\n",
       "      <th>loudness</th>\n",
       "      <th>speechiness</th>\n",
       "      <th>acousticness</th>\n",
       "      <th>instrumentalness</th>\n",
       "      <th>liveness</th>\n",
       "      <th>valence</th>\n",
       "      <th>tempo</th>\n",
       "      <th>title</th>\n",
       "      <th>artist</th>\n",
       "    </tr>\n",
       "  </thead>\n",
       "  <tbody>\n",
       "    <tr>\n",
       "      <th>0</th>\n",
       "      <td>0.425</td>\n",
       "      <td>0.681</td>\n",
       "      <td>1</td>\n",
       "      <td>-8.604</td>\n",
       "      <td>0.0316</td>\n",
       "      <td>0.02290</td>\n",
       "      <td>0.000219</td>\n",
       "      <td>0.0543</td>\n",
       "      <td>0.933</td>\n",
       "      <td>131.011</td>\n",
       "      <td>Caught Up in You</td>\n",
       "      <td>.38 Special</td>\n",
       "    </tr>\n",
       "    <tr>\n",
       "      <th>1</th>\n",
       "      <td>0.418</td>\n",
       "      <td>0.775</td>\n",
       "      <td>4</td>\n",
       "      <td>-9.591</td>\n",
       "      <td>0.0333</td>\n",
       "      <td>0.05310</td>\n",
       "      <td>0.001250</td>\n",
       "      <td>0.0932</td>\n",
       "      <td>0.845</td>\n",
       "      <td>123.524</td>\n",
       "      <td>Fantasy Girl</td>\n",
       "      <td>.38 Special</td>\n",
       "    </tr>\n",
       "    <tr>\n",
       "      <th>2</th>\n",
       "      <td>0.567</td>\n",
       "      <td>0.559</td>\n",
       "      <td>9</td>\n",
       "      <td>-10.175</td>\n",
       "      <td>0.0288</td>\n",
       "      <td>0.00888</td>\n",
       "      <td>0.001310</td>\n",
       "      <td>0.0764</td>\n",
       "      <td>0.898</td>\n",
       "      <td>127.227</td>\n",
       "      <td>Hold On Loosely</td>\n",
       "      <td>.38 Special</td>\n",
       "    </tr>\n",
       "    <tr>\n",
       "      <th>3</th>\n",
       "      <td>0.659</td>\n",
       "      <td>0.505</td>\n",
       "      <td>0</td>\n",
       "      <td>-12.773</td>\n",
       "      <td>0.0302</td>\n",
       "      <td>0.05300</td>\n",
       "      <td>0.000000</td>\n",
       "      <td>0.0544</td>\n",
       "      <td>0.879</td>\n",
       "      <td>128.295</td>\n",
       "      <td>Rockin' Into the Night</td>\n",
       "      <td>.38 Special</td>\n",
       "    </tr>\n",
       "    <tr>\n",
       "      <th>4</th>\n",
       "      <td>0.646</td>\n",
       "      <td>0.426</td>\n",
       "      <td>0</td>\n",
       "      <td>-10.629</td>\n",
       "      <td>0.0480</td>\n",
       "      <td>0.08580</td>\n",
       "      <td>0.072700</td>\n",
       "      <td>0.0746</td>\n",
       "      <td>0.462</td>\n",
       "      <td>124.794</td>\n",
       "      <td>Art For Arts Sake</td>\n",
       "      <td>10cc</td>\n",
       "    </tr>\n",
       "  </tbody>\n",
       "</table>\n",
       "</div>"
      ],
      "text/plain": [
       "   danceability  energy  key  loudness  speechiness  acousticness  \\\n",
       "0         0.425   0.681    1    -8.604       0.0316       0.02290   \n",
       "1         0.418   0.775    4    -9.591       0.0333       0.05310   \n",
       "2         0.567   0.559    9   -10.175       0.0288       0.00888   \n",
       "3         0.659   0.505    0   -12.773       0.0302       0.05300   \n",
       "4         0.646   0.426    0   -10.629       0.0480       0.08580   \n",
       "\n",
       "   instrumentalness  liveness  valence    tempo                   title  \\\n",
       "0          0.000219    0.0543    0.933  131.011        Caught Up in You   \n",
       "1          0.001250    0.0932    0.845  123.524            Fantasy Girl   \n",
       "2          0.001310    0.0764    0.898  127.227         Hold On Loosely   \n",
       "3          0.000000    0.0544    0.879  128.295  Rockin' Into the Night   \n",
       "4          0.072700    0.0746    0.462  124.794       Art For Arts Sake   \n",
       "\n",
       "        artist  \n",
       "0  .38 Special  \n",
       "1  .38 Special  \n",
       "2  .38 Special  \n",
       "3  .38 Special  \n",
       "4         10cc  "
      ]
     },
     "execution_count": 5,
     "metadata": {},
     "output_type": "execute_result"
    }
   ],
   "source": [
    "tracks_with_audio_features.head()"
   ]
  },
  {
   "cell_type": "markdown",
   "metadata": {},
   "source": [
    "## Exploratory Data Analysis\n",
    "---"
   ]
  },
  {
   "cell_type": "markdown",
   "metadata": {},
   "source": [
    "As the name of the dataset would imply (Classic Rock Song List), the scope of the music we are studying is limited to a subset of popular classic rock tracks. The data was collected by [FiveThirtyEight](https://fivethirtyeight.com/features/why-classic-rock-isnt-what-it-used-to-be/) by monitoring the track histories of 25 classic rock stations across the U.S. Below are the artists included in the dataset, and the number of their songs that are listed:"
   ]
  },
  {
   "cell_type": "code",
   "execution_count": 6,
   "metadata": {},
   "outputs": [
    {
     "data": {
      "text/html": [
       "<div>\n",
       "<style scoped>\n",
       "    .dataframe tbody tr th:only-of-type {\n",
       "        vertical-align: middle;\n",
       "    }\n",
       "\n",
       "    .dataframe tbody tr th {\n",
       "        vertical-align: top;\n",
       "    }\n",
       "\n",
       "    .dataframe thead th {\n",
       "        text-align: right;\n",
       "    }\n",
       "</style>\n",
       "<table border=\"1\" class=\"dataframe\">\n",
       "  <thead>\n",
       "    <tr style=\"text-align: right;\">\n",
       "      <th></th>\n",
       "      <th>Artist Name</th>\n",
       "      <th>Num Songs Included</th>\n",
       "    </tr>\n",
       "  </thead>\n",
       "  <tbody>\n",
       "    <tr>\n",
       "      <th>393</th>\n",
       "      <td>The Beatles</td>\n",
       "      <td>100</td>\n",
       "    </tr>\n",
       "    <tr>\n",
       "      <th>229</th>\n",
       "      <td>Led Zeppelin</td>\n",
       "      <td>69</td>\n",
       "    </tr>\n",
       "    <tr>\n",
       "      <th>321</th>\n",
       "      <td>Rolling Stones</td>\n",
       "      <td>55</td>\n",
       "    </tr>\n",
       "    <tr>\n",
       "      <th>453</th>\n",
       "      <td>Van Halen</td>\n",
       "      <td>44</td>\n",
       "    </tr>\n",
       "    <tr>\n",
       "      <th>291</th>\n",
       "      <td>Pink Floyd</td>\n",
       "      <td>39</td>\n",
       "    </tr>\n",
       "    <tr>\n",
       "      <th>...</th>\n",
       "      <td>...</td>\n",
       "      <td>...</td>\n",
       "    </tr>\n",
       "    <tr>\n",
       "      <th>131</th>\n",
       "      <td>Everlast</td>\n",
       "      <td>1</td>\n",
       "    </tr>\n",
       "    <tr>\n",
       "      <th>322</th>\n",
       "      <td>Rory Gallagher</td>\n",
       "      <td>1</td>\n",
       "    </tr>\n",
       "    <tr>\n",
       "      <th>323</th>\n",
       "      <td>Royal Bliss</td>\n",
       "      <td>1</td>\n",
       "    </tr>\n",
       "    <tr>\n",
       "      <th>129</th>\n",
       "      <td>Eve 6</td>\n",
       "      <td>1</td>\n",
       "    </tr>\n",
       "    <tr>\n",
       "      <th>474</th>\n",
       "      <td>a-ha</td>\n",
       "      <td>1</td>\n",
       "    </tr>\n",
       "  </tbody>\n",
       "</table>\n",
       "<p>475 rows × 2 columns</p>\n",
       "</div>"
      ],
      "text/plain": [
       "        Artist Name  Num Songs Included\n",
       "393     The Beatles                 100\n",
       "229    Led Zeppelin                  69\n",
       "321  Rolling Stones                  55\n",
       "453       Van Halen                  44\n",
       "291      Pink Floyd                  39\n",
       "..              ...                 ...\n",
       "131        Everlast                   1\n",
       "322  Rory Gallagher                   1\n",
       "323     Royal Bliss                   1\n",
       "129           Eve 6                   1\n",
       "474            a-ha                   1\n",
       "\n",
       "[475 rows x 2 columns]"
      ]
     },
     "execution_count": 6,
     "metadata": {},
     "output_type": "execute_result"
    }
   ],
   "source": [
    "data.get_artists_and_song_count(raw_song_data)"
   ]
  },
  {
   "cell_type": "code",
   "execution_count": 7,
   "metadata": {},
   "outputs": [
    {
     "name": "stderr",
     "output_type": "stream",
     "text": [
      "C:\\Users\\Faraz\\Anaconda3\\envs\\cs418env\\lib\\site-packages\\scipy\\stats\\stats.py:1713: FutureWarning: Using a non-tuple sequence for multidimensional indexing is deprecated; use `arr[tuple(seq)]` instead of `arr[seq]`. In the future this will be interpreted as an array index, `arr[np.array(seq)]`, which will result either in an error or a different result.\n",
      "  return np.add.reduce(sorted[indexer] * weights, axis=axis) / sumval\n"
     ]
    },
    {
     "data": {
      "image/png": "[encoded data removed]",
      "text/plain": [
       "<Figure size 432x288 with 1 Axes>"
      ]
     },
     "metadata": {
      "needs_background": "light"
     },
     "output_type": "display_data"
    }
   ],
   "source": [
    "import viz\n",
    "viz.get_release_year_distribution_graph(raw_song_data)"
   ]
  },
  {
   "cell_type": "markdown",
   "metadata": {},
   "source": [
    "If we take a closer look at the data, we can see that each row represents one song and its Spotify properties:"
   ]
  },
  {
   "cell_type": "code",
   "execution_count": 8,
   "metadata": {},
   "outputs": [
    {
     "data": {
      "text/html": [
       "<div>\n",
       "<style scoped>\n",
       "    .dataframe tbody tr th:only-of-type {\n",
       "        vertical-align: middle;\n",
       "    }\n",
       "\n",
       "    .dataframe tbody tr th {\n",
       "        vertical-align: top;\n",
       "    }\n",
       "\n",
       "    .dataframe thead th {\n",
       "        text-align: right;\n",
       "    }\n",
       "</style>\n",
       "<table border=\"1\" class=\"dataframe\">\n",
       "  <thead>\n",
       "    <tr style=\"text-align: right;\">\n",
       "      <th></th>\n",
       "      <th>danceability</th>\n",
       "      <th>energy</th>\n",
       "      <th>key</th>\n",
       "      <th>loudness</th>\n",
       "      <th>speechiness</th>\n",
       "      <th>acousticness</th>\n",
       "      <th>instrumentalness</th>\n",
       "      <th>liveness</th>\n",
       "      <th>valence</th>\n",
       "      <th>tempo</th>\n",
       "      <th>title</th>\n",
       "      <th>artist</th>\n",
       "    </tr>\n",
       "  </thead>\n",
       "  <tbody>\n",
       "    <tr>\n",
       "      <th>0</th>\n",
       "      <td>0.425</td>\n",
       "      <td>0.681</td>\n",
       "      <td>1</td>\n",
       "      <td>-8.604</td>\n",
       "      <td>0.0316</td>\n",
       "      <td>0.0229</td>\n",
       "      <td>0.000219</td>\n",
       "      <td>0.0543</td>\n",
       "      <td>0.933</td>\n",
       "      <td>131.011</td>\n",
       "      <td>Caught Up in You</td>\n",
       "      <td>.38 Special</td>\n",
       "    </tr>\n",
       "  </tbody>\n",
       "</table>\n",
       "</div>"
      ],
      "text/plain": [
       "   danceability  energy  key  loudness  speechiness  acousticness  \\\n",
       "0         0.425   0.681    1    -8.604       0.0316        0.0229   \n",
       "\n",
       "   instrumentalness  liveness  valence    tempo             title       artist  \n",
       "0          0.000219    0.0543    0.933  131.011  Caught Up in You  .38 Special  "
      ]
     },
     "execution_count": 8,
     "metadata": {},
     "output_type": "execute_result"
    }
   ],
   "source": [
    "tracks_with_audio_features.head(1)"
   ]
  },
  {
   "cell_type": "markdown",
   "metadata": {},
   "source": [
    "The data is also not aggregated in any way, as all of the rows from the Classic Rock Song List dataset were each one track, and the Spotify data listed in each row is relevant only to the song in that row."
   ]
  },
  {
   "cell_type": "code",
   "execution_count": 9,
   "metadata": {},
   "outputs": [
    {
     "data": {
      "text/html": [
       "<div>\n",
       "<style scoped>\n",
       "    .dataframe tbody tr th:only-of-type {\n",
       "        vertical-align: middle;\n",
       "    }\n",
       "\n",
       "    .dataframe tbody tr th {\n",
       "        vertical-align: top;\n",
       "    }\n",
       "\n",
       "    .dataframe thead th {\n",
       "        text-align: right;\n",
       "    }\n",
       "</style>\n",
       "<table border=\"1\" class=\"dataframe\">\n",
       "  <thead>\n",
       "    <tr style=\"text-align: right;\">\n",
       "      <th></th>\n",
       "      <th>danceability</th>\n",
       "      <th>energy</th>\n",
       "      <th>key</th>\n",
       "      <th>loudness</th>\n",
       "      <th>speechiness</th>\n",
       "      <th>acousticness</th>\n",
       "      <th>instrumentalness</th>\n",
       "      <th>liveness</th>\n",
       "      <th>valence</th>\n",
       "      <th>tempo</th>\n",
       "    </tr>\n",
       "  </thead>\n",
       "  <tbody>\n",
       "    <tr>\n",
       "      <th>count</th>\n",
       "      <td>2174.000000</td>\n",
       "      <td>2174.000000</td>\n",
       "      <td>2174.000000</td>\n",
       "      <td>2174.000000</td>\n",
       "      <td>2174.000000</td>\n",
       "      <td>2174.000000</td>\n",
       "      <td>2174.000000</td>\n",
       "      <td>2174.000000</td>\n",
       "      <td>2174.000000</td>\n",
       "      <td>2174.000000</td>\n",
       "    </tr>\n",
       "    <tr>\n",
       "      <th>mean</th>\n",
       "      <td>0.524436</td>\n",
       "      <td>0.688602</td>\n",
       "      <td>5.015639</td>\n",
       "      <td>-8.950815</td>\n",
       "      <td>0.052329</td>\n",
       "      <td>0.183935</td>\n",
       "      <td>0.068114</td>\n",
       "      <td>0.206696</td>\n",
       "      <td>0.601476</td>\n",
       "      <td>124.159206</td>\n",
       "    </tr>\n",
       "    <tr>\n",
       "      <th>std</th>\n",
       "      <td>0.140159</td>\n",
       "      <td>0.192989</td>\n",
       "      <td>3.508419</td>\n",
       "      <td>3.339848</td>\n",
       "      <td>0.039919</td>\n",
       "      <td>0.219934</td>\n",
       "      <td>0.184117</td>\n",
       "      <td>0.189322</td>\n",
       "      <td>0.228560</td>\n",
       "      <td>26.988888</td>\n",
       "    </tr>\n",
       "    <tr>\n",
       "      <th>min</th>\n",
       "      <td>0.000000</td>\n",
       "      <td>0.012400</td>\n",
       "      <td>0.000000</td>\n",
       "      <td>-23.340000</td>\n",
       "      <td>0.000000</td>\n",
       "      <td>0.000001</td>\n",
       "      <td>0.000000</td>\n",
       "      <td>0.012000</td>\n",
       "      <td>0.000000</td>\n",
       "      <td>0.000000</td>\n",
       "    </tr>\n",
       "    <tr>\n",
       "      <th>25%</th>\n",
       "      <td>0.432000</td>\n",
       "      <td>0.554000</td>\n",
       "      <td>2.000000</td>\n",
       "      <td>-11.236250</td>\n",
       "      <td>0.032400</td>\n",
       "      <td>0.015350</td>\n",
       "      <td>0.000007</td>\n",
       "      <td>0.086400</td>\n",
       "      <td>0.429250</td>\n",
       "      <td>105.414000</td>\n",
       "    </tr>\n",
       "    <tr>\n",
       "      <th>50%</th>\n",
       "      <td>0.531000</td>\n",
       "      <td>0.716000</td>\n",
       "      <td>5.000000</td>\n",
       "      <td>-8.755000</td>\n",
       "      <td>0.039900</td>\n",
       "      <td>0.089950</td>\n",
       "      <td>0.000477</td>\n",
       "      <td>0.131000</td>\n",
       "      <td>0.614000</td>\n",
       "      <td>123.421000</td>\n",
       "    </tr>\n",
       "    <tr>\n",
       "      <th>75%</th>\n",
       "      <td>0.622000</td>\n",
       "      <td>0.847750</td>\n",
       "      <td>9.000000</td>\n",
       "      <td>-6.362250</td>\n",
       "      <td>0.055975</td>\n",
       "      <td>0.290000</td>\n",
       "      <td>0.015450</td>\n",
       "      <td>0.270000</td>\n",
       "      <td>0.788000</td>\n",
       "      <td>139.775000</td>\n",
       "    </tr>\n",
       "    <tr>\n",
       "      <th>max</th>\n",
       "      <td>0.952000</td>\n",
       "      <td>0.995000</td>\n",
       "      <td>11.000000</td>\n",
       "      <td>-1.525000</td>\n",
       "      <td>0.507000</td>\n",
       "      <td>0.971000</td>\n",
       "      <td>0.949000</td>\n",
       "      <td>0.992000</td>\n",
       "      <td>0.990000</td>\n",
       "      <td>215.918000</td>\n",
       "    </tr>\n",
       "  </tbody>\n",
       "</table>\n",
       "</div>"
      ],
      "text/plain": [
       "       danceability       energy          key     loudness  speechiness  \\\n",
       "count   2174.000000  2174.000000  2174.000000  2174.000000  2174.000000   \n",
       "mean       0.524436     0.688602     5.015639    -8.950815     0.052329   \n",
       "std        0.140159     0.192989     3.508419     3.339848     0.039919   \n",
       "min        0.000000     0.012400     0.000000   -23.340000     0.000000   \n",
       "25%        0.432000     0.554000     2.000000   -11.236250     0.032400   \n",
       "50%        0.531000     0.716000     5.000000    -8.755000     0.039900   \n",
       "75%        0.622000     0.847750     9.000000    -6.362250     0.055975   \n",
       "max        0.952000     0.995000    11.000000    -1.525000     0.507000   \n",
       "\n",
       "       acousticness  instrumentalness     liveness      valence        tempo  \n",
       "count   2174.000000       2174.000000  2174.000000  2174.000000  2174.000000  \n",
       "mean       0.183935          0.068114     0.206696     0.601476   124.159206  \n",
       "std        0.219934          0.184117     0.189322     0.228560    26.988888  \n",
       "min        0.000001          0.000000     0.012000     0.000000     0.000000  \n",
       "25%        0.015350          0.000007     0.086400     0.429250   105.414000  \n",
       "50%        0.089950          0.000477     0.131000     0.614000   123.421000  \n",
       "75%        0.290000          0.015450     0.270000     0.788000   139.775000  \n",
       "max        0.971000          0.949000     0.992000     0.990000   215.918000  "
      ]
     },
     "execution_count": 9,
     "metadata": {},
     "output_type": "execute_result"
    }
   ],
   "source": [
    "eda_data = tracks_with_audio_features.copy().dropna()\n",
    "try:\n",
    "    eda_data = eda_data.drop(columns=['cluster', 'tempo'])\n",
    "except:\n",
    "    None\n",
    "eda_data.describe()"
   ]
  },
  {
   "cell_type": "code",
   "execution_count": 10,
   "metadata": {},
   "outputs": [
    {
     "data": {
      "image/png": "[encoded data removed]",
      "text/plain": [
       "<Figure size 432x288 with 1 Axes>"
      ]
     },
     "metadata": {
      "needs_background": "light"
     },
     "output_type": "display_data"
    }
   ],
   "source": [
    "viz.spotify_property_dist_graph(eda_data)"
   ]
  },
  {
   "cell_type": "markdown",
   "metadata": {},
   "source": [
    "### Track Property Analysis\n",
    "\n",
    "Based on the dataset's distribution for each of track properties, we can see some properties are more consistent than others. For instance, a majority of the songs have low acousticness with some outliers. This can be attributed to 80's hard rock's tendency to use distorted guitars, with some other country-oriented songs using acoustic instruments. The danceability and energy properties have lower variance as well. Speechiness and instrumentalness have by far the most variance. This is because there are classic rock songs that are completely instrumental, some that feature vocals throughout, and every degree of instrumentality between.\n",
    "One potential hypothesis we have is that we can use this song property variety to group classic rock songs into subgenres (i.e. hard rock, country rock, power ballad, etc.)"
   ]
  },
  {
   "cell_type": "markdown",
   "metadata": {},
   "source": [
    "## Machine Learning Analysis\n",
    "---"
   ]
  },
  {
   "cell_type": "markdown",
   "metadata": {},
   "source": [
    "We scale loudness, key, and tempo so the values of all features are between 0 and 1"
   ]
  },
  {
   "cell_type": "code",
   "execution_count": 11,
   "metadata": {},
   "outputs": [],
   "source": [
    "import ml_analysis as ml\n",
    "ml.scale_columns(['loudness', 'key', 'tempo'], tracks_with_audio_features)"
   ]
  },
  {
   "cell_type": "markdown",
   "metadata": {},
   "source": [
    "Next we cluster the tracks and find the centers for each of the clusters"
   ]
  },
  {
   "cell_type": "code",
   "execution_count": 12,
   "metadata": {},
   "outputs": [],
   "source": [
    "(tracks_with_audio_features,center) = ml.cluster_songs(tracks_with_audio_features, 50)"
   ]
  },
  {
   "cell_type": "code",
   "execution_count": 13,
   "metadata": {},
   "outputs": [
    {
     "data": {
      "text/html": [
       "<div>\n",
       "<style scoped>\n",
       "    .dataframe tbody tr th:only-of-type {\n",
       "        vertical-align: middle;\n",
       "    }\n",
       "\n",
       "    .dataframe tbody tr th {\n",
       "        vertical-align: top;\n",
       "    }\n",
       "\n",
       "    .dataframe thead th {\n",
       "        text-align: right;\n",
       "    }\n",
       "</style>\n",
       "<table border=\"1\" class=\"dataframe\">\n",
       "  <thead>\n",
       "    <tr style=\"text-align: right;\">\n",
       "      <th></th>\n",
       "      <th>danceability</th>\n",
       "      <th>energy</th>\n",
       "      <th>key</th>\n",
       "      <th>loudness</th>\n",
       "      <th>speechiness</th>\n",
       "      <th>acousticness</th>\n",
       "      <th>instrumentalness</th>\n",
       "      <th>liveness</th>\n",
       "      <th>valence</th>\n",
       "      <th>tempo</th>\n",
       "      <th>title</th>\n",
       "      <th>artist</th>\n",
       "      <th>cluster</th>\n",
       "    </tr>\n",
       "  </thead>\n",
       "  <tbody>\n",
       "    <tr>\n",
       "      <th>0</th>\n",
       "      <td>0.425</td>\n",
       "      <td>0.681</td>\n",
       "      <td>0.090909</td>\n",
       "      <td>0.675499</td>\n",
       "      <td>0.0316</td>\n",
       "      <td>0.02290</td>\n",
       "      <td>0.000219</td>\n",
       "      <td>0.0543</td>\n",
       "      <td>0.933</td>\n",
       "      <td>0.606763</td>\n",
       "      <td>Caught Up in You</td>\n",
       "      <td>.38 Special</td>\n",
       "      <td>1</td>\n",
       "    </tr>\n",
       "    <tr>\n",
       "      <th>1</th>\n",
       "      <td>0.418</td>\n",
       "      <td>0.775</td>\n",
       "      <td>0.363636</td>\n",
       "      <td>0.630254</td>\n",
       "      <td>0.0333</td>\n",
       "      <td>0.05310</td>\n",
       "      <td>0.001250</td>\n",
       "      <td>0.0932</td>\n",
       "      <td>0.845</td>\n",
       "      <td>0.572088</td>\n",
       "      <td>Fantasy Girl</td>\n",
       "      <td>.38 Special</td>\n",
       "      <td>13</td>\n",
       "    </tr>\n",
       "    <tr>\n",
       "      <th>2</th>\n",
       "      <td>0.567</td>\n",
       "      <td>0.559</td>\n",
       "      <td>0.818182</td>\n",
       "      <td>0.603484</td>\n",
       "      <td>0.0288</td>\n",
       "      <td>0.00888</td>\n",
       "      <td>0.001310</td>\n",
       "      <td>0.0764</td>\n",
       "      <td>0.898</td>\n",
       "      <td>0.589238</td>\n",
       "      <td>Hold On Loosely</td>\n",
       "      <td>.38 Special</td>\n",
       "      <td>10</td>\n",
       "    </tr>\n",
       "    <tr>\n",
       "      <th>3</th>\n",
       "      <td>0.659</td>\n",
       "      <td>0.505</td>\n",
       "      <td>0.000000</td>\n",
       "      <td>0.484391</td>\n",
       "      <td>0.0302</td>\n",
       "      <td>0.05300</td>\n",
       "      <td>0.000000</td>\n",
       "      <td>0.0544</td>\n",
       "      <td>0.879</td>\n",
       "      <td>0.594184</td>\n",
       "      <td>Rockin' Into the Night</td>\n",
       "      <td>.38 Special</td>\n",
       "      <td>25</td>\n",
       "    </tr>\n",
       "    <tr>\n",
       "      <th>4</th>\n",
       "      <td>0.646</td>\n",
       "      <td>0.426</td>\n",
       "      <td>0.000000</td>\n",
       "      <td>0.582672</td>\n",
       "      <td>0.0480</td>\n",
       "      <td>0.08580</td>\n",
       "      <td>0.072700</td>\n",
       "      <td>0.0746</td>\n",
       "      <td>0.462</td>\n",
       "      <td>0.577969</td>\n",
       "      <td>Art For Arts Sake</td>\n",
       "      <td>10cc</td>\n",
       "      <td>3</td>\n",
       "    </tr>\n",
       "  </tbody>\n",
       "</table>\n",
       "</div>"
      ],
      "text/plain": [
       "   danceability  energy       key  loudness  speechiness  acousticness  \\\n",
       "0         0.425   0.681  0.090909  0.675499       0.0316       0.02290   \n",
       "1         0.418   0.775  0.363636  0.630254       0.0333       0.05310   \n",
       "2         0.567   0.559  0.818182  0.603484       0.0288       0.00888   \n",
       "3         0.659   0.505  0.000000  0.484391       0.0302       0.05300   \n",
       "4         0.646   0.426  0.000000  0.582672       0.0480       0.08580   \n",
       "\n",
       "   instrumentalness  liveness  valence     tempo                   title  \\\n",
       "0          0.000219    0.0543    0.933  0.606763        Caught Up in You   \n",
       "1          0.001250    0.0932    0.845  0.572088            Fantasy Girl   \n",
       "2          0.001310    0.0764    0.898  0.589238         Hold On Loosely   \n",
       "3          0.000000    0.0544    0.879  0.594184  Rockin' Into the Night   \n",
       "4          0.072700    0.0746    0.462  0.577969       Art For Arts Sake   \n",
       "\n",
       "        artist  cluster  \n",
       "0  .38 Special        1  \n",
       "1  .38 Special       13  \n",
       "2  .38 Special       10  \n",
       "3  .38 Special       25  \n",
       "4         10cc        3  "
      ]
     },
     "execution_count": 13,
     "metadata": {},
     "output_type": "execute_result"
    }
   ],
   "source": [
    "tracks_with_audio_features.head()"
   ]
  },
  {
   "cell_type": "markdown",
   "metadata": {},
   "source": [
    "Now, we can recommend similar songs to users based on the cluster that they belong to. For example, someone who listens to 'Back in Black' might also enjoy the following songs:"
   ]
  },
  {
   "cell_type": "code",
   "execution_count": 14,
   "metadata": {},
   "outputs": [
    {
     "data": {
      "text/html": [
       "<div>\n",
       "<style scoped>\n",
       "    .dataframe tbody tr th:only-of-type {\n",
       "        vertical-align: middle;\n",
       "    }\n",
       "\n",
       "    .dataframe tbody tr th {\n",
       "        vertical-align: top;\n",
       "    }\n",
       "\n",
       "    .dataframe thead th {\n",
       "        text-align: right;\n",
       "    }\n",
       "</style>\n",
       "<table border=\"1\" class=\"dataframe\">\n",
       "  <thead>\n",
       "    <tr style=\"text-align: right;\">\n",
       "      <th></th>\n",
       "      <th>artist</th>\n",
       "      <th>title</th>\n",
       "    </tr>\n",
       "  </thead>\n",
       "  <tbody>\n",
       "    <tr>\n",
       "      <th>11</th>\n",
       "      <td>AC/DC</td>\n",
       "      <td>Back In Black</td>\n",
       "    </tr>\n",
       "    <tr>\n",
       "      <th>67</th>\n",
       "      <td>Aerosmith</td>\n",
       "      <td>Toys in the Attic</td>\n",
       "    </tr>\n",
       "    <tr>\n",
       "      <th>79</th>\n",
       "      <td>Alice Cooper</td>\n",
       "      <td>Elected</td>\n",
       "    </tr>\n",
       "    <tr>\n",
       "      <th>139</th>\n",
       "      <td>Bad Company</td>\n",
       "      <td>Shooting Star</td>\n",
       "    </tr>\n",
       "    <tr>\n",
       "      <th>184</th>\n",
       "      <td>Black Sabbath</td>\n",
       "      <td>Iron Man</td>\n",
       "    </tr>\n",
       "    <tr>\n",
       "      <th>190</th>\n",
       "      <td>Black Sabbath</td>\n",
       "      <td>War Pigs</td>\n",
       "    </tr>\n",
       "    <tr>\n",
       "      <th>341</th>\n",
       "      <td>Clarks</td>\n",
       "      <td>Born Too Late</td>\n",
       "    </tr>\n",
       "    <tr>\n",
       "      <th>342</th>\n",
       "      <td>Clarks</td>\n",
       "      <td>Cigarette</td>\n",
       "    </tr>\n",
       "    <tr>\n",
       "      <th>423</th>\n",
       "      <td>Deep Purple</td>\n",
       "      <td>Highway Star</td>\n",
       "    </tr>\n",
       "    <tr>\n",
       "      <th>452</th>\n",
       "      <td>Dio</td>\n",
       "      <td>The Last In Line</td>\n",
       "    </tr>\n",
       "  </tbody>\n",
       "</table>\n",
       "</div>"
      ],
      "text/plain": [
       "            artist              title\n",
       "11           AC/DC      Back In Black\n",
       "67       Aerosmith  Toys in the Attic\n",
       "79    Alice Cooper            Elected\n",
       "139    Bad Company      Shooting Star\n",
       "184  Black Sabbath           Iron Man\n",
       "190  Black Sabbath           War Pigs\n",
       "341         Clarks      Born Too Late\n",
       "342         Clarks          Cigarette\n",
       "423    Deep Purple       Highway Star\n",
       "452            Dio   The Last In Line"
      ]
     },
     "execution_count": 14,
     "metadata": {},
     "output_type": "execute_result"
    }
   ],
   "source": [
    "ml.recommend('Back In Black', \"AC/DC\", tracks_with_audio_features, spotify_client,tracks_to_query).head(10)"
   ]
  },
  {
   "cell_type": "code",
   "execution_count": 15,
   "metadata": {},
   "outputs": [
    {
     "data": {
      "text/html": [
       "<div>\n",
       "<style scoped>\n",
       "    .dataframe tbody tr th:only-of-type {\n",
       "        vertical-align: middle;\n",
       "    }\n",
       "\n",
       "    .dataframe tbody tr th {\n",
       "        vertical-align: top;\n",
       "    }\n",
       "\n",
       "    .dataframe thead th {\n",
       "        text-align: right;\n",
       "    }\n",
       "</style>\n",
       "<table border=\"1\" class=\"dataframe\">\n",
       "  <thead>\n",
       "    <tr style=\"text-align: right;\">\n",
       "      <th></th>\n",
       "      <th>artist</th>\n",
       "      <th>title</th>\n",
       "    </tr>\n",
       "  </thead>\n",
       "  <tbody>\n",
       "    <tr>\n",
       "      <th>27</th>\n",
       "      <td>AC/DC</td>\n",
       "      <td>Night Prowler</td>\n",
       "    </tr>\n",
       "    <tr>\n",
       "      <th>42</th>\n",
       "      <td>Aerosmith</td>\n",
       "      <td>Baby, Please Don't Go</td>\n",
       "    </tr>\n",
       "    <tr>\n",
       "      <th>46</th>\n",
       "      <td>Aerosmith</td>\n",
       "      <td>Crazy</td>\n",
       "    </tr>\n",
       "    <tr>\n",
       "      <th>64</th>\n",
       "      <td>Aerosmith</td>\n",
       "      <td>Seasons of Wither</td>\n",
       "    </tr>\n",
       "    <tr>\n",
       "      <th>90</th>\n",
       "      <td>Alice In Chains</td>\n",
       "      <td>Them Bones</td>\n",
       "    </tr>\n",
       "    <tr>\n",
       "      <th>179</th>\n",
       "      <td>Billy Squier</td>\n",
       "      <td>She's a Runner</td>\n",
       "    </tr>\n",
       "    <tr>\n",
       "      <th>249</th>\n",
       "      <td>Bon Jovi</td>\n",
       "      <td>Wanted Dead or Alive</td>\n",
       "    </tr>\n",
       "    <tr>\n",
       "      <th>266</th>\n",
       "      <td>Boston</td>\n",
       "      <td>Something About You</td>\n",
       "    </tr>\n",
       "    <tr>\n",
       "      <th>306</th>\n",
       "      <td>Bush</td>\n",
       "      <td>Machinehead</td>\n",
       "    </tr>\n",
       "    <tr>\n",
       "      <th>340</th>\n",
       "      <td>Clarks</td>\n",
       "      <td>Better Off Without You</td>\n",
       "    </tr>\n",
       "  </tbody>\n",
       "</table>\n",
       "</div>"
      ],
      "text/plain": [
       "              artist                   title\n",
       "27             AC/DC           Night Prowler\n",
       "42         Aerosmith   Baby, Please Don't Go\n",
       "46         Aerosmith                   Crazy\n",
       "64         Aerosmith       Seasons of Wither\n",
       "90   Alice In Chains              Them Bones\n",
       "179     Billy Squier          She's a Runner\n",
       "249         Bon Jovi    Wanted Dead or Alive\n",
       "266           Boston     Something About You\n",
       "306             Bush             Machinehead\n",
       "340           Clarks  Better Off Without You"
      ]
     },
     "execution_count": 15,
     "metadata": {},
     "output_type": "execute_result"
    }
   ],
   "source": [
    "ml.recommend('Roar', \"katy perry\", tracks_with_audio_features, spotify_client,tracks_to_query).head(10)"
   ]
  },
  {
   "cell_type": "markdown",
   "metadata": {},
   "source": [
    "## Visualizing the results\n",
    "---"
   ]
  },
  {
   "cell_type": "code",
   "execution_count": 16,
   "metadata": {},
   "outputs": [
    {
     "data": {
      "image/png": "[encoded data removed]",
      "text/plain": [
       "<Figure size 360x360 with 1 Axes>"
      ]
     },
     "metadata": {
      "needs_background": "light"
     },
     "output_type": "display_data"
    }
   ],
   "source": [
    "viz.plot_TSNE(tracks_with_audio_features)"
   ]
  },
  {
   "cell_type": "code",
   "execution_count": 17,
   "metadata": {},
   "outputs": [
    {
     "data": {
      "image/png": "[encoded data removed]",
      "text/plain": [
       "<Figure size 432x288 with 1 Axes>"
      ]
     },
     "metadata": {
      "needs_background": "light"
     },
     "output_type": "display_data"
    }
   ],
   "source": [
    "viz.compare_center_features(center)"
   ]
  },
  {
   "cell_type": "markdown",
   "metadata": {},
   "source": [
    "## Conclusion\n",
    "---"
   ]
  },
  {
   "cell_type": "code",
   "execution_count": null,
   "metadata": {},
   "outputs": [],
   "source": []
  }
 ],
 "metadata": {
  "kernelspec": {
   "display_name": "Python 3",
   "language": "python",
   "name": "python3"
  },
  "language_info": {
   "codemirror_mode": {
    "name": "ipython",
    "version": 3
   },
   "file_extension": ".py",
   "mimetype": "text/x-python",
   "name": "python",
   "nbconvert_exporter": "python",
   "pygments_lexer": "ipython3",
   "version": "3.7.4"
  }
 },
 "nbformat": 4,
 "nbformat_minor": 4
}
