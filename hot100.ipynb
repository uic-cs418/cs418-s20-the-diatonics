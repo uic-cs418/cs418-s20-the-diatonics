{
 "cells": [
  {
   "cell_type": "code",
   "execution_count": 1,
   "metadata": {},
   "outputs": [],
   "source": [
    "import billboard as bb\n",
    "import pandas as pd\n",
    "import numpy as np "
   ]
  },
  {
   "cell_type": "code",
   "execution_count": 2,
   "metadata": {},
   "outputs": [],
   "source": [
    "#if the artist lists featuring artists, condense to the primary artist\n",
    "def get_primary(artist):\n",
    "    if 'Featuring' in artist:\n",
    "        return artist.split(' Featuring')[0]\n",
    "    else:\n",
    "        return artist"
   ]
  },
  {
   "cell_type": "code",
   "execution_count": 3,
   "metadata": {},
   "outputs": [],
   "source": [
    "charts = [] #list of chart objects for each month\n",
    "songs_by_month = [] #list of lists of songs (artist, title)\n",
    "dates = ['2019-01-01', '2019-02-01', '2019-03-01', '2019-04-01', '2019-05-01', '2019-06-01', '2019-07-01', '2019-08-01', '2019-09-01', '2019-10-01', '2019-11-01', '2019-12-01']"
   ]
  },
  {
   "cell_type": "code",
   "execution_count": 4,
   "metadata": {},
   "outputs": [],
   "source": [
    "for d in dates:\n",
    "    chart = bb.ChartData('hot-100', d)\n",
    "    charts.append(chart)"
   ]
  },
  {
   "cell_type": "code",
   "execution_count": 5,
   "metadata": {},
   "outputs": [],
   "source": [
    "for chart in charts:\n",
    "    songs = []\n",
    "    for song in chart:\n",
    "        if song.isNew: #if the song is a new addition to the chart\n",
    "            artist = song.artist\n",
    "            primary_artist = get_primary(artist)\n",
    "            title = song.title\n",
    "            songs.append((primary_artist, title))\n",
    "    songs_by_month.append(songs)"
   ]
  },
  {
   "cell_type": "code",
   "execution_count": 6,
   "metadata": {
    "scrolled": true
   },
   "outputs": [
    {
     "name": "stdout",
     "output_type": "stream",
     "text": [
      "15\n",
      "[('21 Savage', 'A Lot'), ('Elvis Presley', 'Blue Christmas'), ('Post Malone', 'Wow.'), ('Frank Sinatra', 'Jingle Bells'), ('A Boogie Wit da Hoodie', 'Swervin'), ('21 Savage', \"Can't Leave Without It\"), ('A Boogie Wit da Hoodie', 'Startender'), ('21 Savage', 'All My Friends'), ('21 Savage', 'Break Da Law'), ('21 Savage', 'Monster'), ('21 Savage', '1.5'), ('21 Savage', 'Out For The Night'), ('21 Savage', 'Gun Smoke'), ('A Boogie Wit da Hoodie', 'Demons And Angels'), ('21 Savage', 'ASMR')]\n",
      "16\n",
      "[('Ariana Grande', '7 Rings'), ('J. Cole', 'Middle Child'), ('Logic', 'Keanu Reeves'), ('Future', 'First Off'), ('Future', 'Never Stop'), ('Anuel AA & Karol G', 'Secreto'), ('YNW Melly', 'Mixed Personalities'), ('Future', 'Temptation'), ('Future', 'Rocket Ship'), ('Mustard & Migos', 'Pure Water'), ('Future', 'F&N'), ('Cody Johnson', 'On My Way To You'), ('YNW Melly', 'Murder On My Mind'), ('Maren Morris', 'GIRL'), ('Hikaru Utada & Skrillex', 'Face My Fears'), ('Future', 'Call The Coroner')]\n",
      "9\n",
      "[('Cardi B & Bruno Mars', 'Please Me'), ('Juice WRLD', 'Robbery'), ('Offset', 'Red Room'), ('Florida Georgia Line', 'Talk You Out Of It'), ('Chase Rice', 'Eyes On You'), ('Zedd & Katy Perry', '365'), ('YK Osiris', 'Worth It'), ('Riley Green', 'There Was This Girl'), ('Michael Ray', 'One That Got Away')]\n",
      "6\n",
      "[('NAV', 'Price On My Head'), ('Logic', 'Confessions Of A Dangerous Mind'), ('NAV', 'Tap'), ('Polo G', 'Pop Out'), ('Mabel', \"Don't Call Me Up\"), ('Bebe Rexha', 'Last Hurrah')]\n",
      "6\n",
      "[('Lil Dicky', 'Earth'), ('Beyonce', 'Before I Let Go'), ('French Montana', 'Slide'), ('Brett Eldredge', 'Love Someone'), ('NLE Choppa', 'Shotta Flow'), ('Taylor Swift', 'ME!')]\n",
      "17\n",
      "[('Tyler, The Creator', 'Earfquake'), ('Halsey', 'Nightmare'), ('DJ Khaled', 'Wish Wish'), ('DJ Khaled', 'Higher'), ('DJ Khaled', 'Just Us'), ('DJ Khaled', 'You Stay'), ('Tyler, The Creator', 'I Think'), ('DJ Khaled', 'Celebrate'), ('DJ Khaled', 'Jealous'), ('Tyler, The Creator', 'Running Out Of Time'), ('Tyler, The Creator', \"Igor's Theme\"), ('Tyler, The Creator', 'New Magic Wand'), ('Tyler, The Creator', 'A Boy Is A Gun'), ('Tyler, The Creator', \"What's Good\"), ('Lady Antebellum', 'What If I Never Get Over You'), ('Tyler, The Creator', 'Puppet'), ('DJ Khaled', 'Weather The Storm')]\n",
      "8\n",
      "[('Shawn Mendes & Camila Cabello', 'Senorita'), ('Lil Nas X', 'Panini'), ('Nicki Minaj', 'MEGATRON'), ('Lil Nas X & Cardi B Or Nas', 'Rodeo'), ('Marshmello & Kane Brown', 'One Thing Right'), ('Lil Baby', 'Out The Mud'), ('Megan Thee Stallion', 'Cash Shit'), ('Martin Garrix', 'Summer Days')]\n",
      "8\n",
      "[('Sam Smith', 'How Do You Sleep?'), ('Lil Baby & DaBaby', 'Baby'), ('Anuel AA, Daddy Yankee, Karol G, Ozuna & J Balvin', 'China'), ('Taylor Swift', 'The Archer'), ('Beyonce, SAINt JHN & Wizkid', 'Brown Skin Girl'), ('Ellie Goulding & Juice WRLD', 'Hate Me'), ('Beyonce, JAY-Z & Childish Gambino', 'Mood 4 Eva'), ('Mustard & Roddy Ricch', \"Ballin'\")]\n",
      "17\n",
      "[('Taylor Swift', 'The Man'), ('Taylor Swift', 'I Forgot That You Existed'), ('Taylor Swift', 'Cruel Summer'), ('Taylor Swift', 'Paper Rings'), ('Taylor Swift', 'Miss Americana & The Heartbreak Prince'), ('Taylor Swift', 'I Think He Knows'), ('Lizzo', 'Good As Hell'), ('Taylor Swift', 'Cornelia Street'), ('Taylor Swift', 'London Boy'), ('Taylor Swift', \"Soon You'll Get Better\"), ('Taylor Swift', 'Death By A Thousand Cuts'), ('Taylor Swift', 'Afterglow'), ('Taylor Swift', 'False God'), ('Summer Walker', 'Playing Games'), ('Taylor Swift', 'Daylight'), ('Old Dominion', 'One Man Band'), ('Taylor Swift', \"It's Nice To Have A Friend\")]\n",
      "5\n",
      "[('DaBaby', 'INTRO'), ('Maroon 5', 'Memories'), ('Tainy, Anuel AA & Ozuna', 'Adicto'), ('Lil Mosey x Gunna', 'Stuck In A Dream'), ('DJ Snake, J. Balvin & Tyga', 'Loco Contigo')]\n",
      "3\n",
      "[('Selena Gomez', 'Lose You To Love Me'), ('Internet Money, Lil Tecca & A Boogie Wit da Hoodie', 'Somebody'), ('Frank Ocean', 'DHL')]\n",
      "12\n",
      "[('The Weeknd', 'Heartless'), ('Bad Bunny', 'Vete'), ('Idina Menzel & AURORA', 'Into The Unknown'), ('Trippie Redd', 'Who Needs Love'), ('Trippie Redd', '6 Kiss'), ('PARTYNEXTDOOR', 'Loyal'), ('YNW Melly', 'Suicidal'), ('Trippie Redd', 'Hate Me'), ('Doja Cat', 'Candy'), ('Rod Wave & Kevin Gates', 'Cuban Links'), ('Panic! At The Disco', 'Into The Unknown'), ('Idina Menzel & Evan Rachel Wood', 'Show Yourself')]\n"
     ]
    }
   ],
   "source": [
    "for song_list in songs_by_month:\n",
    "    print(len(song_list))\n",
    "    print(song_list)"
   ]
  },
  {
   "cell_type": "code",
   "execution_count": null,
   "metadata": {},
   "outputs": [],
   "source": []
  }
 ],
 "metadata": {
  "kernelspec": {
   "display_name": "Python 3",
   "language": "python",
   "name": "python3"
  },
  "language_info": {
   "codemirror_mode": {
    "name": "ipython",
    "version": 3
   },
   "file_extension": ".py",
   "mimetype": "text/x-python",
   "name": "python",
   "nbconvert_exporter": "python",
   "pygments_lexer": "ipython3",
   "version": "3.7.4"
  }
 },
 "nbformat": 4,
 "nbformat_minor": 2
}
