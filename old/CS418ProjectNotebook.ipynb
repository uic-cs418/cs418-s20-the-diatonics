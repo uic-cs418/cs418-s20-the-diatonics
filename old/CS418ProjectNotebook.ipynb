{
 "cells": [
  {
   "cell_type": "code",
   "execution_count": 1,
   "metadata": {},
   "outputs": [
    {
     "data": {
      "text/plain": [
       "'\\nSetting up Spotipy credentials\\nconda env config vars set SPOTIPY_CLIENT_ID=<client id>\\nconda env config vars set SPOTIPY_CLIENT_SECRET=<client secret>\\nsource activate <env name>\\n\\n'"
      ]
     },
     "execution_count": 1,
     "metadata": {},
     "output_type": "execute_result"
    }
   ],
   "source": [
    "import billboard\n",
    "import spotipy\n",
    "\n",
    "from spotipy.oauth2 import SpotifyClientCredentials\n",
    "\n",
    "\n",
    "'''\n",
    "Setting up Spotipy credentials\n",
    "conda env config vars set SPOTIPY_CLIENT_ID=<client id>\n",
    "conda env config vars set SPOTIPY_CLIENT_SECRET=<client secret>\n",
    "source activate <env name>\n",
    "\n",
    "'''"
   ]
  },
  {
   "cell_type": "code",
   "execution_count": 22,
   "metadata": {},
   "outputs": [],
   "source": [
    "# borrowed from Polo's code\n",
    "def get_primary_artist(artist):\n",
    "    if 'Featuring' in artist:\n",
    "        return artist.split(' Featuring')[0]\n",
    "    else:\n",
    "        return artist\n",
    "\n",
    "def get_authenticated_api_client():\n",
    "    '''\n",
    "    Returns an authenticated Spotipy API client, using credentials stored in environment variables. \n",
    "    Inputs: TODO\n",
    "    Outputs: TODO\n",
    "    '''\n",
    "    \n",
    "    client_credentials_manager = SpotifyClientCredentials()\n",
    "    return spotipy.Spotify(client_credentials_manager=client_credentials_manager)\n",
    "\n",
    "def search_spotify_by_track(trackName, artistName, apiClient):\n",
    "    '''\n",
    "    Searches the Spotify API for a track with the given track and artist name\n",
    "    Inputs: TODO\n",
    "    Outputs: TODO\n",
    "    '''\n",
    "    \n",
    "    print(trackName)\n",
    "    print(artistName)\n",
    "    \n",
    "    results = apiClient.search(q='track:' + trackName + ' artist:' + artistName , type='track', market='US')\n",
    "    print(results)\n",
    "    first_result = results['tracks']['items'][0]\n",
    "    first_artist = first_result['artists'][0]\n",
    "#     print(first_result)\n",
    "    \n",
    "    return {\n",
    "        'trackId': first_result['id'],\n",
    "        'trackName': first_result['name'],\n",
    "        'primaryArtist': first_artist['name']\n",
    "    }\n",
    "\n",
    "# print(first_result)"
   ]
  },
  {
   "cell_type": "code",
   "execution_count": 23,
   "metadata": {},
   "outputs": [
    {
     "name": "stdout",
     "output_type": "stream",
     "text": [
      "The Box\n",
      "Roddy Ricch\n",
      "{'tracks': {'href': 'https://api.spotify.com/v1/search?query=track%3AThe+Box+artist%3ARoddy+Ricch&type=track&market=US&offset=0&limit=10', 'items': [{'album': {'album_type': 'album', 'artists': [{'external_urls': {'spotify': 'https://open.spotify.com/artist/757aE44tKEUQEqRuT6GnEB'}, 'href': 'https://api.spotify.com/v1/artists/757aE44tKEUQEqRuT6GnEB', 'id': '757aE44tKEUQEqRuT6GnEB', 'name': 'Roddy Ricch', 'type': 'artist', 'uri': 'spotify:artist:757aE44tKEUQEqRuT6GnEB'}], 'external_urls': {'spotify': 'https://open.spotify.com/album/52u4anZbHd6UInnmHRFzba'}, 'href': 'https://api.spotify.com/v1/albums/52u4anZbHd6UInnmHRFzba', 'id': '52u4anZbHd6UInnmHRFzba', 'images': [{'height': 640, 'url': 'https://i.scdn.co/image/ab67616d0000b273600adbc750285ea1a8da249f', 'width': 640}, {'height': 300, 'url': 'https://i.scdn.co/image/ab67616d00001e02600adbc750285ea1a8da249f', 'width': 300}, {'height': 64, 'url': 'https://i.scdn.co/image/ab67616d00004851600adbc750285ea1a8da249f', 'width': 64}], 'name': 'Please Excuse Me For Being Antisocial', 'release_date': '2019-12-06', 'release_date_precision': 'day', 'total_tracks': 16, 'type': 'album', 'uri': 'spotify:album:52u4anZbHd6UInnmHRFzba'}, 'artists': [{'external_urls': {'spotify': 'https://open.spotify.com/artist/757aE44tKEUQEqRuT6GnEB'}, 'href': 'https://api.spotify.com/v1/artists/757aE44tKEUQEqRuT6GnEB', 'id': '757aE44tKEUQEqRuT6GnEB', 'name': 'Roddy Ricch', 'type': 'artist', 'uri': 'spotify:artist:757aE44tKEUQEqRuT6GnEB'}], 'disc_number': 1, 'duration_ms': 196652, 'explicit': True, 'external_ids': {'isrc': 'USAT21906978'}, 'external_urls': {'spotify': 'https://open.spotify.com/track/0nbXyq5TXYPCO7pr3N8S4I'}, 'href': 'https://api.spotify.com/v1/tracks/0nbXyq5TXYPCO7pr3N8S4I', 'id': '0nbXyq5TXYPCO7pr3N8S4I', 'is_local': False, 'is_playable': True, 'name': 'The Box', 'popularity': 99, 'preview_url': 'https://p.scdn.co/mp3-preview/52c74a85b9b187b8f51bfe1c7b19a25f7624161a?cid=00c3cba43acc42948d3f6f39e866a04b', 'track_number': 2, 'type': 'track', 'uri': 'spotify:track:0nbXyq5TXYPCO7pr3N8S4I'}], 'limit': 10, 'next': None, 'offset': 0, 'previous': None, 'total': 1}}\n",
      "{'trackId': '0nbXyq5TXYPCO7pr3N8S4I', 'trackName': 'The Box', 'primaryArtist': 'Roddy Ricch'}\n",
      "Life Is Good\n",
      "Future\n",
      "{'tracks': {'href': 'https://api.spotify.com/v1/search?query=track%3ALife+Is+Good+artist%3AFuture&type=track&market=US&offset=0&limit=10', 'items': [{'album': {'album_type': 'single', 'artists': [{'external_urls': {'spotify': 'https://open.spotify.com/artist/1RyvyyTE3xzB2ZywiAwp0i'}, 'href': 'https://api.spotify.com/v1/artists/1RyvyyTE3xzB2ZywiAwp0i', 'id': '1RyvyyTE3xzB2ZywiAwp0i', 'name': 'Future', 'type': 'artist', 'uri': 'spotify:artist:1RyvyyTE3xzB2ZywiAwp0i'}, {'external_urls': {'spotify': 'https://open.spotify.com/artist/3TVXtAsR1Inumwj472S9r4'}, 'href': 'https://api.spotify.com/v1/artists/3TVXtAsR1Inumwj472S9r4', 'id': '3TVXtAsR1Inumwj472S9r4', 'name': 'Drake', 'type': 'artist', 'uri': 'spotify:artist:3TVXtAsR1Inumwj472S9r4'}], 'external_urls': {'spotify': 'https://open.spotify.com/album/5uCEoLCj3ZZZ1EtzQdQWVl'}, 'href': 'https://api.spotify.com/v1/albums/5uCEoLCj3ZZZ1EtzQdQWVl', 'id': '5uCEoLCj3ZZZ1EtzQdQWVl', 'images': [{'height': 640, 'url': 'https://i.scdn.co/image/ab67616d0000b2738a01c7b77a34378a62f46402', 'width': 640}, {'height': 300, 'url': 'https://i.scdn.co/image/ab67616d00001e028a01c7b77a34378a62f46402', 'width': 300}, {'height': 64, 'url': 'https://i.scdn.co/image/ab67616d000048518a01c7b77a34378a62f46402', 'width': 64}], 'name': 'Life Is Good (feat. Drake)', 'release_date': '2020-01-10', 'release_date_precision': 'day', 'total_tracks': 1, 'type': 'album', 'uri': 'spotify:album:5uCEoLCj3ZZZ1EtzQdQWVl'}, 'artists': [{'external_urls': {'spotify': 'https://open.spotify.com/artist/1RyvyyTE3xzB2ZywiAwp0i'}, 'href': 'https://api.spotify.com/v1/artists/1RyvyyTE3xzB2ZywiAwp0i', 'id': '1RyvyyTE3xzB2ZywiAwp0i', 'name': 'Future', 'type': 'artist', 'uri': 'spotify:artist:1RyvyyTE3xzB2ZywiAwp0i'}, {'external_urls': {'spotify': 'https://open.spotify.com/artist/3TVXtAsR1Inumwj472S9r4'}, 'href': 'https://api.spotify.com/v1/artists/3TVXtAsR1Inumwj472S9r4', 'id': '3TVXtAsR1Inumwj472S9r4', 'name': 'Drake', 'type': 'artist', 'uri': 'spotify:artist:3TVXtAsR1Inumwj472S9r4'}], 'disc_number': 1, 'duration_ms': 237735, 'explicit': True, 'external_ids': {'isrc': 'USSM11914962'}, 'external_urls': {'spotify': 'https://open.spotify.com/track/5yY9lUy8nbvjM1Uyo1Uqoc'}, 'href': 'https://api.spotify.com/v1/tracks/5yY9lUy8nbvjM1Uyo1Uqoc', 'id': '5yY9lUy8nbvjM1Uyo1Uqoc', 'is_local': False, 'is_playable': True, 'name': 'Life Is Good (feat. Drake)', 'popularity': 95, 'preview_url': 'https://p.scdn.co/mp3-preview/79199a9ab949b5803197efb455c224299d7d5949?cid=00c3cba43acc42948d3f6f39e866a04b', 'track_number': 1, 'type': 'track', 'uri': 'spotify:track:5yY9lUy8nbvjM1Uyo1Uqoc'}, {'album': {'album_type': 'single', 'artists': [{'external_urls': {'spotify': 'https://open.spotify.com/artist/1RyvyyTE3xzB2ZywiAwp0i'}, 'href': 'https://api.spotify.com/v1/artists/1RyvyyTE3xzB2ZywiAwp0i', 'id': '1RyvyyTE3xzB2ZywiAwp0i', 'name': 'Future', 'type': 'artist', 'uri': 'spotify:artist:1RyvyyTE3xzB2ZywiAwp0i'}, {'external_urls': {'spotify': 'https://open.spotify.com/artist/4r63FhuTkUYltbVAg5TQnk'}, 'href': 'https://api.spotify.com/v1/artists/4r63FhuTkUYltbVAg5TQnk', 'id': '4r63FhuTkUYltbVAg5TQnk', 'name': 'DaBaby', 'type': 'artist', 'uri': 'spotify:artist:4r63FhuTkUYltbVAg5TQnk'}], 'external_urls': {'spotify': 'https://open.spotify.com/album/0YEH6ciBiMrVM4Rl1R10Wz'}, 'href': 'https://api.spotify.com/v1/albums/0YEH6ciBiMrVM4Rl1R10Wz', 'id': '0YEH6ciBiMrVM4Rl1R10Wz', 'images': [{'height': 640, 'url': 'https://i.scdn.co/image/ab67616d0000b2734df9c60aa74fb72c1e07fd1d', 'width': 640}, {'height': 300, 'url': 'https://i.scdn.co/image/ab67616d00001e024df9c60aa74fb72c1e07fd1d', 'width': 300}, {'height': 64, 'url': 'https://i.scdn.co/image/ab67616d000048514df9c60aa74fb72c1e07fd1d', 'width': 64}], 'name': 'Life Is Good (feat. Drake, DaBaby & Lil Baby) [Remix]', 'release_date': '2020-02-15', 'release_date_precision': 'day', 'total_tracks': 1, 'type': 'album', 'uri': 'spotify:album:0YEH6ciBiMrVM4Rl1R10Wz'}, 'artists': [{'external_urls': {'spotify': 'https://open.spotify.com/artist/1RyvyyTE3xzB2ZywiAwp0i'}, 'href': 'https://api.spotify.com/v1/artists/1RyvyyTE3xzB2ZywiAwp0i', 'id': '1RyvyyTE3xzB2ZywiAwp0i', 'name': 'Future', 'type': 'artist', 'uri': 'spotify:artist:1RyvyyTE3xzB2ZywiAwp0i'}, {'external_urls': {'spotify': 'https://open.spotify.com/artist/4r63FhuTkUYltbVAg5TQnk'}, 'href': 'https://api.spotify.com/v1/artists/4r63FhuTkUYltbVAg5TQnk', 'id': '4r63FhuTkUYltbVAg5TQnk', 'name': 'DaBaby', 'type': 'artist', 'uri': 'spotify:artist:4r63FhuTkUYltbVAg5TQnk'}, {'external_urls': {'spotify': 'https://open.spotify.com/artist/3TVXtAsR1Inumwj472S9r4'}, 'href': 'https://api.spotify.com/v1/artists/3TVXtAsR1Inumwj472S9r4', 'id': '3TVXtAsR1Inumwj472S9r4', 'name': 'Drake', 'type': 'artist', 'uri': 'spotify:artist:3TVXtAsR1Inumwj472S9r4'}, {'external_urls': {'spotify': 'https://open.spotify.com/artist/5f7VJjfbwm532GiveGC0ZK'}, 'href': 'https://api.spotify.com/v1/artists/5f7VJjfbwm532GiveGC0ZK', 'id': '5f7VJjfbwm532GiveGC0ZK', 'name': 'Lil Baby', 'type': 'artist', 'uri': 'spotify:artist:5f7VJjfbwm532GiveGC0ZK'}], 'disc_number': 1, 'duration_ms': 315346, 'explicit': True, 'external_ids': {'isrc': 'USSM12001024'}, 'external_urls': {'spotify': 'https://open.spotify.com/track/4iiWcajF1fEUpwcUewc464'}, 'href': 'https://api.spotify.com/v1/tracks/4iiWcajF1fEUpwcUewc464', 'id': '4iiWcajF1fEUpwcUewc464', 'is_local': False, 'is_playable': True, 'name': 'Life Is Good (feat. Drake, DaBaby & Lil Baby) - Remix', 'popularity': 82, 'preview_url': 'https://p.scdn.co/mp3-preview/0ec243b93a219d369ed34082eccf1146edc2f50c?cid=00c3cba43acc42948d3f6f39e866a04b', 'track_number': 1, 'type': 'track', 'uri': 'spotify:track:4iiWcajF1fEUpwcUewc464'}, {'album': {'album_type': 'album', 'artists': [{'external_urls': {'spotify': 'https://open.spotify.com/artist/77uXcJHJAWojE6yXBBlY6h'}, 'href': 'https://api.spotify.com/v1/artists/77uXcJHJAWojE6yXBBlY6h', 'id': '77uXcJHJAWojE6yXBBlY6h', 'name': 'Future Historians', 'type': 'artist', 'uri': 'spotify:artist:77uXcJHJAWojE6yXBBlY6h'}], 'external_urls': {'spotify': 'https://open.spotify.com/album/1JxrzWhrjZw01KT97IDi8K'}, 'href': 'https://api.spotify.com/v1/albums/1JxrzWhrjZw01KT97IDi8K', 'id': '1JxrzWhrjZw01KT97IDi8K', 'images': [{'height': 640, 'url': 'https://i.scdn.co/image/ab67616d0000b273ee1c8917ba7ef0a79f3bc4e7', 'width': 640}, {'height': 300, 'url': 'https://i.scdn.co/image/ab67616d00001e02ee1c8917ba7ef0a79f3bc4e7', 'width': 300}, {'height': 64, 'url': 'https://i.scdn.co/image/ab67616d00004851ee1c8917ba7ef0a79f3bc4e7', 'width': 64}], 'name': 'Somehow It Is Now', 'release_date': '2012-06-26', 'release_date_precision': 'day', 'total_tracks': 8, 'type': 'album', 'uri': 'spotify:album:1JxrzWhrjZw01KT97IDi8K'}, 'artists': [{'external_urls': {'spotify': 'https://open.spotify.com/artist/77uXcJHJAWojE6yXBBlY6h'}, 'href': 'https://api.spotify.com/v1/artists/77uXcJHJAWojE6yXBBlY6h', 'id': '77uXcJHJAWojE6yXBBlY6h', 'name': 'Future Historians', 'type': 'artist', 'uri': 'spotify:artist:77uXcJHJAWojE6yXBBlY6h'}], 'disc_number': 1, 'duration_ms': 195053, 'explicit': False, 'external_ids': {'isrc': 'QMUG51100008'}, 'external_urls': {'spotify': 'https://open.spotify.com/track/3tnUjp9H6iF4Nx2dwy1qyP'}, 'href': 'https://api.spotify.com/v1/tracks/3tnUjp9H6iF4Nx2dwy1qyP', 'id': '3tnUjp9H6iF4Nx2dwy1qyP', 'is_local': False, 'is_playable': True, 'name': 'Good Life', 'popularity': 4, 'preview_url': 'https://p.scdn.co/mp3-preview/a35818c337cf1f6f1dec0980d8f42a941b863ad7?cid=00c3cba43acc42948d3f6f39e866a04b', 'track_number': 8, 'type': 'track', 'uri': 'spotify:track:3tnUjp9H6iF4Nx2dwy1qyP'}, {'album': {'album_type': 'album', 'artists': [{'external_urls': {'spotify': 'https://open.spotify.com/artist/1USsnmEDGth1LMAncqxCV2'}, 'href': 'https://api.spotify.com/v1/artists/1USsnmEDGth1LMAncqxCV2', 'id': '1USsnmEDGth1LMAncqxCV2', 'name': 'Ibiza Chillout Unlimited', 'type': 'artist', 'uri': 'spotify:artist:1USsnmEDGth1LMAncqxCV2'}], 'external_urls': {'spotify': 'https://open.spotify.com/album/5Bpz1kQticAhinRQZxR2Gg'}, 'href': 'https://api.spotify.com/v1/albums/5Bpz1kQticAhinRQZxR2Gg', 'id': '5Bpz1kQticAhinRQZxR2Gg', 'images': [{'height': 640, 'url': 'https://i.scdn.co/image/ab67616d0000b27360857afecaa13233f08ed20c', 'width': 640}, {'height': 300, 'url': 'https://i.scdn.co/image/ab67616d00001e0260857afecaa13233f08ed20c', 'width': 300}, {'height': 64, 'url': 'https://i.scdn.co/image/ab67616d0000485160857afecaa13233f08ed20c', 'width': 64}], 'name': '2018 Seriously Good Ibiza Chill', 'release_date': '2018-05-11', 'release_date_precision': 'day', 'total_tracks': 29, 'type': 'album', 'uri': 'spotify:album:5Bpz1kQticAhinRQZxR2Gg'}, 'artists': [{'external_urls': {'spotify': 'https://open.spotify.com/artist/6yXh5QbEH8D2P2icU4rHHN'}, 'href': 'https://api.spotify.com/v1/artists/6yXh5QbEH8D2P2icU4rHHN', 'id': '6yXh5QbEH8D2P2icU4rHHN', 'name': 'Future Loop Foundation', 'type': 'artist', 'uri': 'spotify:artist:6yXh5QbEH8D2P2icU4rHHN'}], 'disc_number': 1, 'duration_ms': 285048, 'explicit': False, 'external_ids': {'isrc': 'GBPS81528683'}, 'external_urls': {'spotify': 'https://open.spotify.com/track/5iYLTyWh0JKpki3sYq3xtA'}, 'href': 'https://api.spotify.com/v1/tracks/5iYLTyWh0JKpki3sYq3xtA', 'id': '5iYLTyWh0JKpki3sYq3xtA', 'is_local': False, 'is_playable': True, 'name': 'My Movie Is Like Life', 'popularity': 0, 'preview_url': 'https://p.scdn.co/mp3-preview/957e0506824094f755ae58f185a325499c775b9c?cid=00c3cba43acc42948d3f6f39e866a04b', 'track_number': 17, 'type': 'track', 'uri': 'spotify:track:5iYLTyWh0JKpki3sYq3xtA'}], 'limit': 10, 'next': None, 'offset': 0, 'previous': None, 'total': 4}}\n",
      "{'trackId': '5yY9lUy8nbvjM1Uyo1Uqoc', 'trackName': 'Life Is Good (feat. Drake)', 'primaryArtist': 'Future'}\n",
      "Don't Start Now\n",
      "Dua Lipa\n",
      "{'tracks': {'href': 'https://api.spotify.com/v1/search?query=track%3ADon%27t+Start+Now+artist%3ADua+Lipa&type=track&market=US&offset=0&limit=10', 'items': [], 'limit': 10, 'next': None, 'offset': 0, 'previous': None, 'total': 0}}\n"
     ]
    },
    {
     "ename": "IndexError",
     "evalue": "list index out of range",
     "output_type": "error",
     "traceback": [
      "\u001b[0;31m---------------------------------------------------------------------------\u001b[0m",
      "\u001b[0;31mIndexError\u001b[0m                                Traceback (most recent call last)",
      "\u001b[0;32m<ipython-input-23-b284fb94b940>\u001b[0m in \u001b[0;36m<module>\u001b[0;34m\u001b[0m\n\u001b[1;32m      4\u001b[0m \u001b[0;34m\u001b[0m\u001b[0m\n\u001b[1;32m      5\u001b[0m \u001b[0;32mfor\u001b[0m \u001b[0msong\u001b[0m \u001b[0;32min\u001b[0m \u001b[0mcharts\u001b[0m\u001b[0;34m:\u001b[0m\u001b[0;34m\u001b[0m\u001b[0;34m\u001b[0m\u001b[0m\n\u001b[0;32m----> 6\u001b[0;31m     \u001b[0mprint\u001b[0m\u001b[0;34m(\u001b[0m\u001b[0msearch_spotify_by_track\u001b[0m\u001b[0;34m(\u001b[0m\u001b[0msong\u001b[0m\u001b[0;34m.\u001b[0m\u001b[0mtitle\u001b[0m\u001b[0;34m,\u001b[0m \u001b[0mget_primary_artist\u001b[0m\u001b[0;34m(\u001b[0m\u001b[0msong\u001b[0m\u001b[0;34m.\u001b[0m\u001b[0martist\u001b[0m\u001b[0;34m)\u001b[0m\u001b[0;34m,\u001b[0m \u001b[0mspClient\u001b[0m\u001b[0;34m)\u001b[0m\u001b[0;34m)\u001b[0m\u001b[0;34m\u001b[0m\u001b[0;34m\u001b[0m\u001b[0m\n\u001b[0m",
      "\u001b[0;32m<ipython-input-22-c7af2caed6ff>\u001b[0m in \u001b[0;36msearch_spotify_by_track\u001b[0;34m(trackName, artistName, apiClient)\u001b[0m\n\u001b[1;32m     28\u001b[0m     \u001b[0mresults\u001b[0m \u001b[0;34m=\u001b[0m \u001b[0mapiClient\u001b[0m\u001b[0;34m.\u001b[0m\u001b[0msearch\u001b[0m\u001b[0;34m(\u001b[0m\u001b[0mq\u001b[0m\u001b[0;34m=\u001b[0m\u001b[0;34m'track:'\u001b[0m \u001b[0;34m+\u001b[0m \u001b[0mtrackName\u001b[0m \u001b[0;34m+\u001b[0m \u001b[0;34m' artist:'\u001b[0m \u001b[0;34m+\u001b[0m \u001b[0martistName\u001b[0m \u001b[0;34m,\u001b[0m \u001b[0mtype\u001b[0m\u001b[0;34m=\u001b[0m\u001b[0;34m'track'\u001b[0m\u001b[0;34m,\u001b[0m \u001b[0mmarket\u001b[0m\u001b[0;34m=\u001b[0m\u001b[0;34m'US'\u001b[0m\u001b[0;34m)\u001b[0m\u001b[0;34m\u001b[0m\u001b[0;34m\u001b[0m\u001b[0m\n\u001b[1;32m     29\u001b[0m     \u001b[0mprint\u001b[0m\u001b[0;34m(\u001b[0m\u001b[0mresults\u001b[0m\u001b[0;34m)\u001b[0m\u001b[0;34m\u001b[0m\u001b[0;34m\u001b[0m\u001b[0m\n\u001b[0;32m---> 30\u001b[0;31m     \u001b[0mfirst_result\u001b[0m \u001b[0;34m=\u001b[0m \u001b[0mresults\u001b[0m\u001b[0;34m[\u001b[0m\u001b[0;34m'tracks'\u001b[0m\u001b[0;34m]\u001b[0m\u001b[0;34m[\u001b[0m\u001b[0;34m'items'\u001b[0m\u001b[0;34m]\u001b[0m\u001b[0;34m[\u001b[0m\u001b[0;36m0\u001b[0m\u001b[0;34m]\u001b[0m\u001b[0;34m\u001b[0m\u001b[0;34m\u001b[0m\u001b[0m\n\u001b[0m\u001b[1;32m     31\u001b[0m     \u001b[0mfirst_artist\u001b[0m \u001b[0;34m=\u001b[0m \u001b[0mfirst_result\u001b[0m\u001b[0;34m[\u001b[0m\u001b[0;34m'artists'\u001b[0m\u001b[0;34m]\u001b[0m\u001b[0;34m[\u001b[0m\u001b[0;36m0\u001b[0m\u001b[0;34m]\u001b[0m\u001b[0;34m\u001b[0m\u001b[0;34m\u001b[0m\u001b[0m\n\u001b[1;32m     32\u001b[0m \u001b[0;31m#     print(first_result)\u001b[0m\u001b[0;34m\u001b[0m\u001b[0;34m\u001b[0m\u001b[0;34m\u001b[0m\u001b[0m\n",
      "\u001b[0;31mIndexError\u001b[0m: list index out of range"
     ]
    }
   ],
   "source": [
    "spClient = get_authenticated_api_client()\n",
    "charts = billboard.ChartData('hot-100')\n",
    "# print(charts[10])\n",
    "\n",
    "for song in charts:\n",
    "    print(search_spotify_by_track(song.title, get_primary_artist(song.artist), spClient))"
   ]
  }
 ],
 "metadata": {
  "kernelspec": {
   "display_name": "Python 3",
   "language": "python",
   "name": "python3"
  },
  "language_info": {
   "codemirror_mode": {
    "name": "ipython",
    "version": 3
   },
   "file_extension": ".py",
   "mimetype": "text/x-python",
   "name": "python",
   "nbconvert_exporter": "python",
   "pygments_lexer": "ipython3",
   "version": "3.7.4"
  }
 },
 "nbformat": 4,
 "nbformat_minor": 2
}
